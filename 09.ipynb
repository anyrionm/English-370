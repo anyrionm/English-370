{
 "cells": [
  {
   "cell_type": "code",
   "execution_count": null,
   "id": "b40db3d5-b011-49a3-9dda-d758a19dfd4b",
   "metadata": {},
   "outputs": [],
   "source": [
    "#IMPORTS\n",
    "import re\n",
    "import nltk\n",
    "from pathlib import Path\n",
    "\n",
    "# CUSTOM TOKENIZER\n",
    "# This function takes a string and returns a list of tokens\n",
    "# QUIZ COMMENT: Could this function be improved?\n",
    "def tknize (a_string):\n",
    "    words = re.sub('[^a-zA /.]', ' ', a_string).split()\n",
    "    return words\n",
    "\n",
    "#TEST DATA\n",
    "with open(\"../"
   ]
  }
 ],
 "metadata": {
  "kernelspec": {
   "display_name": "Python 3 (ipykernel)",
   "language": "python",
   "name": "python3"
  },
  "language_info": {
   "codemirror_mode": {
    "name": "ipython",
    "version": 3
   },
   "file_extension": ".py",
   "mimetype": "text/x-python",
   "name": "python",
   "nbconvert_exporter": "python",
   "pygments_lexer": "ipython3",
   "version": "3.10.16"
  }
 },
 "nbformat": 4,
 "nbformat_minor": 5
}
